{
 "cells": [
  {
   "cell_type": "markdown",
   "id": "23121ece-6c71-4bed-b0ea-e96c0502907d",
   "metadata": {},
   "source": [
    "# CONNECT DATABASE"
   ]
  },
  {
   "cell_type": "code",
   "execution_count": 1,
   "id": "27c499a1-ec9e-41f2-bee6-a6752f333d6b",
   "metadata": {},
   "outputs": [],
   "source": [
    "# pip install mysql-connector-python\n"
   ]
  },
  {
   "cell_type": "code",
   "execution_count": 3,
   "id": "e5a0d94d-be37-40fd-ae29-13e45b782bff",
   "metadata": {},
   "outputs": [],
   "source": [
    "import mysql.connector as a\n"
   ]
  },
  {
   "cell_type": "code",
   "execution_count": 5,
   "id": "56d9a361-c638-41ad-aa90-48eb58b7cfd7",
   "metadata": {},
   "outputs": [
    {
     "name": "stdin",
     "output_type": "stream",
     "text": [
      "DATABASE PASSWORD:  123456\n"
     ]
    }
   ],
   "source": [
    "passwd = str(input(\"DATABASE PASSWORD: \"))\n",
    "con = a.connect(host=\"localhost\" , user = \"root\", passwd = passwd)"
   ]
  },
  {
   "cell_type": "markdown",
   "id": "05545a76-4091-42f2-825d-5e81bf0d4abf",
   "metadata": {},
   "source": [
    "# SELECT DATABASE IF EXIST OR CREATE DATABASE IF DOES NOT EXIST"
   ]
  },
  {
   "cell_type": "code",
   "execution_count": 7,
   "id": "559fe06d-9c7c-468a-8b6d-a5f035025885",
   "metadata": {},
   "outputs": [],
   "source": [
    "c = con.cursor()\n",
    "\n",
    "c.execute(\"SHOW DATABASES\")\n",
    "dl = c.fetchall()\n",
    "\n",
    "dl2 = []\n",
    "for i in dl:\n",
    "    dl2.append(i[0])\n",
    "\n",
    "if \"myrailway\" in dl2:\n",
    "    sql = \"USE myrailway\"\n",
    "    c.execute(sql)\n",
    "else:\n",
    "    sql1 = \"CREATE DATABASE myrailway\"\n",
    "    c.execute(sql1)\n",
    "    sql2 = \"USE myrailway\"\n",
    "    c.execute(sql2)\n",
    "    \n",
    "    # Creating tables in the myrailway database\n",
    "    sql3 = \"\"\"CREATE TABLE Train (\n",
    "        Name VARCHAR(50), \n",
    "        Cost INTEGER,\n",
    "        Distance INTEGER,\n",
    "        Date VARCHAR(20)\n",
    "    )\"\"\"\n",
    "    c.execute(sql3)\n",
    "    \n",
    "    sql4 = \"\"\"CREATE TABLE Customer (\n",
    "        Name VARCHAR(50), \n",
    "        Train VARCHAR(25), \n",
    "        Payment INTEGER, \n",
    "        Date VARCHAR(20), \n",
    "        Phone VARCHAR(20)\n",
    "    )\"\"\"\n",
    "    c.execute(sql4)\n",
    "    \n",
    "    sql5 = \"\"\"CREATE TABLE Bill (\n",
    "        Detail VARCHAR(50), \n",
    "        Cost INTEGER, \n",
    "        Date VARCHAR(20)\n",
    "    )\"\"\"\n",
    "    c.execute(sql5)\n",
    "    \n",
    "    sql6 = \"\"\"CREATE TABLE Worker (\n",
    "        Name VARCHAR(100), \n",
    "        Work VARCHAR(20), \n",
    "        Salary VARCHAR(20)\n",
    "    )\"\"\"\n",
    "    c.execute(sql6)\n",
    "    \n",
    "    con.commit()\n"
   ]
  },
  {
   "cell_type": "markdown",
   "id": "69082772-e03e-42fc-ac57-3d52f7eec2c2",
   "metadata": {},
   "source": [
    "# SYSTEM PASSWORD LOGIN"
   ]
  },
  {
   "cell_type": "code",
   "execution_count": 10,
   "id": "5788b8e7-8eca-4b51-b72c-023ea1cb316d",
   "metadata": {},
   "outputs": [],
   "source": [
    "def signin(): \n",
    "    \n",
    "    print(\"\\n\")\n",
    "    print(\"     -------->>>>>>>>> Welcome, My Railway System [MRS] <<<<<<<<<--------\")\n",
    "    print(\"\\n\")\n",
    "    \n",
    "    p = input(\"System Password: \")\n",
    "    \n",
    "    if p == \"mrs111\":\n",
    "        options()\n",
    "    else:\n",
    "        signin()"
   ]
  },
  {
   "cell_type": "markdown",
   "id": "a00b4ddc-a614-4c2c-9f17-f759cda09985",
   "metadata": {},
   "source": [
    "# PROJECT WORKING OPTIONS"
   ]
  },
  {
   "cell_type": "code",
   "execution_count": 13,
   "id": "e86afb4d-4c4a-431c-8143-3b8321b1eee6",
   "metadata": {},
   "outputs": [],
   "source": [
    "def options():\n",
    "    print(\"\"\"\n",
    "                1.    Add Train\n",
    "                2.    Book Train\n",
    "                3.    Add Bill\n",
    "                4.    Add Worker\n",
    "                5.    Display Train\n",
    "                6.    Display Payments\n",
    "                7.    Display Bills\n",
    "                8.    Display Workers\n",
    "    \"\"\")\n",
    "    choice = input(\"Select Option: \")\n",
    "    while True:\n",
    "        if (choice == '1'):\n",
    "            AddTrain()\n",
    "        elif (choice=='2'):\n",
    "            BookTrain()\n",
    "        elif (choice=='3'):\n",
    "            AddBill()\n",
    "        elif (choice=='4'):\n",
    "            AddWorker()\n",
    "        elif (choice=='5'):\n",
    "            dTrain()\n",
    "        elif (choice=='6'):\n",
    "            dPayments()\n",
    "        elif (choice=='7'):\n",
    "            dBills()\n",
    "        elif (choice=='8'):\n",
    "            dWorker()\n",
    "        else:\n",
    "            print(\"Enter Again..........\")\n",
    "            options()"
   ]
  },
  {
   "cell_type": "markdown",
   "id": "bee6e2b7-cdaa-424b-8c8e-b984410c63f9",
   "metadata": {},
   "source": [
    "# function to add new Trains data into Train table"
   ]
  },
  {
   "cell_type": "code",
   "execution_count": 16,
   "id": "40f1912f-eecb-4709-a91d-200ff1a6f60e",
   "metadata": {},
   "outputs": [],
   "source": [
    "def AddTrain():\n",
    "    n = input(\"Train Name: \")\n",
    "    c = input(\"Cost: \")\n",
    "    b = input(\"Distance: \")\n",
    "    d = input(\"Date: \")\n",
    "    data = (n,c,b,d)\n",
    "    \n",
    "    sql = 'insert into Train values(%s, %s, %s,%s)'\n",
    "    c = con.cursor()\n",
    "    c.execute(sql,data)\n",
    "    con.commit()\n",
    "    print(\"Data Inserted Successfully\")\n",
    "    options()"
   ]
  },
  {
   "cell_type": "markdown",
   "id": "a08d22c4-7706-474a-9184-514bb1e27491",
   "metadata": {},
   "source": [
    "# function to Display data from Train table"
   ]
  },
  {
   "cell_type": "code",
   "execution_count": 19,
   "id": "ecbb0154-19e0-4c95-af7d-eefb0f95e9a7",
   "metadata": {},
   "outputs": [],
   "source": [
    "def dTrain():\n",
    "    sql = \"select * from Train\"\n",
    "    c = con.cursor()\n",
    "    c.execute(sql)\n",
    "    d = c.fetchall()\n",
    "    \n",
    "    for i in d:\n",
    "        print(\" Name: \",i[0])\n",
    "        print(\" Cost: \",i[1])\n",
    "        print(\" Distance: \",i[2])\n",
    "        print(\" Date: \",i[3])\n",
    "        print(\".......................................................... \")\n",
    "    options()"
   ]
  },
  {
   "cell_type": "markdown",
   "id": "da6557e6-4421-45d8-872d-f2c1e7605a17",
   "metadata": {},
   "source": [
    "# function to add selling data into Customer table"
   ]
  },
  {
   "cell_type": "code",
   "execution_count": 22,
   "id": "099d15a8-7beb-452c-b2d7-dd6c989055f0",
   "metadata": {},
   "outputs": [],
   "source": [
    "def BookTrain():\n",
    "    n = input(\"Customer Name: \")\n",
    "    s = input(\"Train: \")\n",
    "    py = int(input(\"Payment: \"))\n",
    "    d = input(\"Date: \")\n",
    "    p = input(\"Phone: \")\n",
    "    data = (n,s,py,d,p)\n",
    "    sql = \"insert into Customer values(%s, %s,%s,%s,%s)\"\n",
    "    c = con.cursor()\n",
    "    c.execute(sql,data)\n",
    "    con.commit()\n",
    "    print(\"Data Inserted Successfully\")\n",
    "    options()"
   ]
  },
  {
   "cell_type": "markdown",
   "id": "c1f206e3-ef60-440c-bf11-56ef28e1e4ae",
   "metadata": {},
   "source": [
    "# function to Display selling data from Customer table"
   ]
  },
  {
   "cell_type": "code",
   "execution_count": 25,
   "id": "a0b5a875-f2e3-424f-8c89-13b28d52ee70",
   "metadata": {},
   "outputs": [],
   "source": [
    "def dPayments():\n",
    "    sd = input(\"Date: \")\n",
    "    \n",
    "    sql = 'select * from Customer'\n",
    "    c = con.cursor()\n",
    "    c.execute(sql)\n",
    "    d = c.fetchall()\n",
    "    \n",
    "    for i in d:\n",
    "        if i[3] == sd:\n",
    "            print(\" Name: \",i[0])\n",
    "            print(\" Train: \",i[1])\n",
    "            print(\" Payment: \",i[2])\n",
    "            print(\"Date: \",i[3])\n",
    "            print(\" Phone: \",i[4])\n",
    "            print(\".............................................\")\n",
    "            \n",
    "    options()"
   ]
  },
  {
   "cell_type": "markdown",
   "id": "6113e4bb-06e3-4982-88e8-e3789faf423e",
   "metadata": {},
   "source": [
    "# function to add new bills"
   ]
  },
  {
   "cell_type": "code",
   "execution_count": 28,
   "id": "d2f9d76d-d9bd-41f9-86f0-abf9e7fcc9ac",
   "metadata": {},
   "outputs": [],
   "source": [
    "def AddBill():\n",
    "    dt = input(\"Detail: \")\n",
    "    c = input(\"Cost: \")\n",
    "    d=input(\"Date: \")\n",
    "    data = (dt,c,d)\n",
    "    sql = 'insert into Bills values(%s, %s,%s)'\n",
    "    c = con.cursor()\n",
    "    c.execute(sql,data)\n",
    "    con.commit()\n",
    "    print(\"Data Inserted Successfully\")\n",
    "    options()"
   ]
  },
  {
   "cell_type": "markdown",
   "id": "146eb337-94be-4a0b-a4b3-29ce014eaad7",
   "metadata": {},
   "source": [
    "# function to display all previous bills"
   ]
  },
  {
   "cell_type": "code",
   "execution_count": 31,
   "id": "cbe37e26-2937-4317-9e87-6c2f74b7dcab",
   "metadata": {},
   "outputs": [],
   "source": [
    "def dBills():\n",
    "    sd = input(\"Date: \")\n",
    "    sql = 'select * from Bills'\n",
    "    c = con.cursor()\n",
    "    c.execute(sql)\n",
    "    d = c.fetchall()\n",
    "    for i in d:\n",
    "        print(\"Detail: \",i[0])\n",
    "        print(\" Cost: \",i[1])\n",
    "        print(\"Date: \",i[2])\n",
    "        print(\"............................................\")\n",
    "    options()"
   ]
  },
  {
   "cell_type": "markdown",
   "id": "cb0a6246-22e7-4af2-ad94-c73291f965a8",
   "metadata": {},
   "source": [
    "# function to add new worker"
   ]
  },
  {
   "cell_type": "code",
   "execution_count": 34,
   "id": "b88dda48-0bb1-4fbb-96c2-b8a19ec41493",
   "metadata": {},
   "outputs": [],
   "source": [
    "def AddWorker():\n",
    "    n = input(\"Name: \")\n",
    "    w = input(\"Work: \")\n",
    "    s = input(\"Salary: \")\n",
    "    data = (n,w,s)\n",
    "    sql = 'insert into Worker values(%s, %s,%s)'\n",
    "    c = con.cursor()\n",
    "    c.execute(sql,data)\n",
    "    con.commit()\n",
    "    print(\"Data Inserted Successfully\")\n",
    "    options()"
   ]
  },
  {
   "cell_type": "markdown",
   "id": "e3abe4ec-5492-4f62-8a28-2b51d17bd312",
   "metadata": {},
   "source": [
    "# function to display all workers"
   ]
  },
  {
   "cell_type": "code",
   "execution_count": 37,
   "id": "bc922403-5276-4359-9868-2686939a9ed9",
   "metadata": {},
   "outputs": [],
   "source": [
    "def dWorker():\n",
    "    sql = 'select * from Worker'\n",
    "    c = con.cursor()\n",
    "    c.execute(sql)\n",
    "    d = c.fetchall()\n",
    "    for i in d:\n",
    "        print(\" Name: \",i[0])\n",
    "        print(\" Work: \",i[1])\n",
    "        print(\" Salary: \",i[2])\n",
    "        print(\"...............................................\")\n",
    "    options()"
   ]
  },
  {
   "cell_type": "code",
   "execution_count": null,
   "id": "1ff0bc68-c61b-40e9-971e-35b59490c5ec",
   "metadata": {},
   "outputs": [
    {
     "name": "stdout",
     "output_type": "stream",
     "text": [
      "\n",
      "\n",
      "     -------->>>>>>>>> Welcome, My Railway System [MRS] <<<<<<<<<--------\n",
      "\n",
      "\n"
     ]
    },
    {
     "name": "stdin",
     "output_type": "stream",
     "text": [
      "System Password:  mrs111\n"
     ]
    },
    {
     "name": "stdout",
     "output_type": "stream",
     "text": [
      "\n",
      "                1.    Add Train\n",
      "                2.    Book Train\n",
      "                3.    Add Bill\n",
      "                4.    Add Worker\n",
      "                5.    Display Train\n",
      "                6.    Display Payments\n",
      "                7.    Display Bills\n",
      "                8.    Display Workers\n",
      "    \n"
     ]
    },
    {
     "name": "stdin",
     "output_type": "stream",
     "text": [
      "Select Option:  1\n",
      "Train Name:  mumbai to delhi 123587\n",
      "Cost:  1200\n",
      "Distance:  800\n",
      "Date:  15/09/2024\n"
     ]
    },
    {
     "name": "stdout",
     "output_type": "stream",
     "text": [
      "Data Inserted Successfully\n",
      "\n",
      "                1.    Add Train\n",
      "                2.    Book Train\n",
      "                3.    Add Bill\n",
      "                4.    Add Worker\n",
      "                5.    Display Train\n",
      "                6.    Display Payments\n",
      "                7.    Display Bills\n",
      "                8.    Display Workers\n",
      "    \n"
     ]
    },
    {
     "name": "stdin",
     "output_type": "stream",
     "text": [
      "Select Option:  1\n",
      "Train Name:  Warangal to patna 121255\n",
      "Cost:  2350\n",
      "Distance:  1900\n",
      "Date:  11/11/2024\n"
     ]
    },
    {
     "name": "stdout",
     "output_type": "stream",
     "text": [
      "Data Inserted Successfully\n",
      "\n",
      "                1.    Add Train\n",
      "                2.    Book Train\n",
      "                3.    Add Bill\n",
      "                4.    Add Worker\n",
      "                5.    Display Train\n",
      "                6.    Display Payments\n",
      "                7.    Display Bills\n",
      "                8.    Display Workers\n",
      "    \n"
     ]
    },
    {
     "name": "stdin",
     "output_type": "stream",
     "text": [
      "Select Option:  5\n"
     ]
    },
    {
     "name": "stdout",
     "output_type": "stream",
     "text": [
      " Name:  mumbai to delhi 123587\n",
      " Cost:  1200\n",
      " Distance:  800\n",
      " Date:  15/09/2024\n",
      ".......................................................... \n",
      " Name:  Warangal to patna 121255\n",
      " Cost:  2350\n",
      " Distance:  1900\n",
      " Date:  11/11/2024\n",
      ".......................................................... \n",
      "\n",
      "                1.    Add Train\n",
      "                2.    Book Train\n",
      "                3.    Add Bill\n",
      "                4.    Add Worker\n",
      "                5.    Display Train\n",
      "                6.    Display Payments\n",
      "                7.    Display Bills\n",
      "                8.    Display Workers\n",
      "    \n"
     ]
    },
    {
     "name": "stdin",
     "output_type": "stream",
     "text": [
      "Select Option:  2\n",
      "Customer Name:  Ganesh Kumar Sah\n",
      "Train:  Warangal to patna 121255\n",
      "Payment:  2350\n",
      "Date:  10/05/24\n",
      "Phone:  7492982407\n"
     ]
    },
    {
     "name": "stdout",
     "output_type": "stream",
     "text": [
      "Data Inserted Successfully\n",
      "\n",
      "                1.    Add Train\n",
      "                2.    Book Train\n",
      "                3.    Add Bill\n",
      "                4.    Add Worker\n",
      "                5.    Display Train\n",
      "                6.    Display Payments\n",
      "                7.    Display Bills\n",
      "                8.    Display Workers\n",
      "    \n"
     ]
    },
    {
     "name": "stdin",
     "output_type": "stream",
     "text": [
      "Select Option:  6\n",
      "Date:  10/05/2024\n"
     ]
    },
    {
     "name": "stdout",
     "output_type": "stream",
     "text": [
      "\n",
      "                1.    Add Train\n",
      "                2.    Book Train\n",
      "                3.    Add Bill\n",
      "                4.    Add Worker\n",
      "                5.    Display Train\n",
      "                6.    Display Payments\n",
      "                7.    Display Bills\n",
      "                8.    Display Workers\n",
      "    \n"
     ]
    }
   ],
   "source": [
    "signin()"
   ]
  },
  {
   "cell_type": "code",
   "execution_count": null,
   "id": "da3f5f9e-03ca-4ea5-8677-7a0a51539ada",
   "metadata": {},
   "outputs": [],
   "source": []
  }
 ],
 "metadata": {
  "kernelspec": {
   "display_name": "Python 3 (ipykernel)",
   "language": "python",
   "name": "python3"
  },
  "language_info": {
   "codemirror_mode": {
    "name": "ipython",
    "version": 3
   },
   "file_extension": ".py",
   "mimetype": "text/x-python",
   "name": "python",
   "nbconvert_exporter": "python",
   "pygments_lexer": "ipython3",
   "version": "3.11.5"
  }
 },
 "nbformat": 4,
 "nbformat_minor": 5
}
